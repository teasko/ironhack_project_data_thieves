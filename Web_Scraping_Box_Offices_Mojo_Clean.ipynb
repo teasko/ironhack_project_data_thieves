{
 "cells": [
  {
   "cell_type": "markdown",
   "metadata": {},
   "source": [
    "## Web Scraping of the Box Offices Mojo Database provided from IMdB\n",
    "\n",
    "https://www.boxofficemojo.com/year/world/2019/"
   ]
  },
  {
   "cell_type": "markdown",
   "metadata": {},
   "source": [
    "Import the libraries:"
   ]
  },
  {
   "cell_type": "code",
   "execution_count": 1,
   "metadata": {},
   "outputs": [],
   "source": [
    "import pandas as pd\n",
    "import numpy as np\n",
    "import re\n",
    "import datetime\n",
    "import requests\n",
    "import bs4"
   ]
  },
  {
   "cell_type": "markdown",
   "metadata": {},
   "source": [
    "Base and variable URL:"
   ]
  },
  {
   "cell_type": "code",
   "execution_count": 2,
   "metadata": {},
   "outputs": [],
   "source": [
    "base = \"https://www.boxofficemojo.com/year/world/\"\n",
    "years = [str(i)+\"/\" for i in range(2000,2020)]"
   ]
  },
  {
   "cell_type": "markdown",
   "metadata": {},
   "source": [
    "Empty DataFrame:"
   ]
  },
  {
   "cell_type": "code",
   "execution_count": 3,
   "metadata": {},
   "outputs": [],
   "source": [
    "df = pd.DataFrame(columns=[\"Title\", \"Year\", \"Worldwide\", \"Domestic\"])"
   ]
  },
  {
   "cell_type": "markdown",
   "metadata": {},
   "source": [
    "Scrap the data for the last 20 years (2000 - 2019):"
   ]
  },
  {
   "cell_type": "code",
   "execution_count": 4,
   "metadata": {},
   "outputs": [],
   "source": [
    "for year in years:\n",
    "    url = base + year\n",
    "    r = requests.get(url)\n",
    "    soup = bs4.BeautifulSoup(r.content, \"html5lib\")\n",
    "    movies = soup.find(\"div\", class_=\"a-section imdb-scroll-table-inner\").find_all(\"tr\")\n",
    "\n",
    "    for movie in movies[1:]:\n",
    "        title = str(movie.find(\"a\", class_=\"a-link-normal\").contents[0])\n",
    "        worldwide = int(str(movie.find_all(\"td\", class_=\"a-text-right mojo-field-type-money\")[0].contents[0])[1:].replace(\",\",\"\"))\n",
    "        domestic_str = str(movie.find_all(\"td\", class_=\"a-text-right mojo-field-type-money\")[1].contents[0])[1:].replace(\",\",\"\")\n",
    "        if domestic_str:\n",
    "            domestic = int(domestic_str)\n",
    "        else:\n",
    "            domestic = np.nan\n",
    "\n",
    "        df = df.append({\"Title\": title, \"Year\": int(year[:-1]), \"Worldwide\": worldwide, \"Domestic\": domestic}, ignore_index=True)"
   ]
  },
  {
   "cell_type": "code",
   "execution_count": 5,
   "metadata": {},
   "outputs": [
    {
     "data": {
      "text/html": [
       "<div>\n",
       "<style scoped>\n",
       "    .dataframe tbody tr th:only-of-type {\n",
       "        vertical-align: middle;\n",
       "    }\n",
       "\n",
       "    .dataframe tbody tr th {\n",
       "        vertical-align: top;\n",
       "    }\n",
       "\n",
       "    .dataframe thead th {\n",
       "        text-align: right;\n",
       "    }\n",
       "</style>\n",
       "<table border=\"1\" class=\"dataframe\">\n",
       "  <thead>\n",
       "    <tr style=\"text-align: right;\">\n",
       "      <th></th>\n",
       "      <th>Title</th>\n",
       "      <th>Year</th>\n",
       "      <th>Worldwide</th>\n",
       "      <th>Domestic</th>\n",
       "    </tr>\n",
       "  </thead>\n",
       "  <tbody>\n",
       "    <tr>\n",
       "      <td>0</td>\n",
       "      <td>Mission: Impossible II</td>\n",
       "      <td>2000</td>\n",
       "      <td>546388105</td>\n",
       "      <td>215409889</td>\n",
       "    </tr>\n",
       "    <tr>\n",
       "      <td>1</td>\n",
       "      <td>Gladiator</td>\n",
       "      <td>2000</td>\n",
       "      <td>460583960</td>\n",
       "      <td>187705427</td>\n",
       "    </tr>\n",
       "    <tr>\n",
       "      <td>2</td>\n",
       "      <td>Cast Away</td>\n",
       "      <td>2000</td>\n",
       "      <td>429632142</td>\n",
       "      <td>233632142</td>\n",
       "    </tr>\n",
       "    <tr>\n",
       "      <td>3</td>\n",
       "      <td>What Women Want</td>\n",
       "      <td>2000</td>\n",
       "      <td>374111707</td>\n",
       "      <td>182811707</td>\n",
       "    </tr>\n",
       "    <tr>\n",
       "      <td>4</td>\n",
       "      <td>Dinosaur</td>\n",
       "      <td>2000</td>\n",
       "      <td>349822765</td>\n",
       "      <td>137748063</td>\n",
       "    </tr>\n",
       "    <tr>\n",
       "      <td>...</td>\n",
       "      <td>...</td>\n",
       "      <td>...</td>\n",
       "      <td>...</td>\n",
       "      <td>...</td>\n",
       "    </tr>\n",
       "    <tr>\n",
       "      <td>12494</td>\n",
       "      <td>Jimi Hendrix Electric Church</td>\n",
       "      <td>2019</td>\n",
       "      <td>1818</td>\n",
       "      <td>NaN</td>\n",
       "    </tr>\n",
       "    <tr>\n",
       "      <td>12495</td>\n",
       "      <td>Game Day</td>\n",
       "      <td>2019</td>\n",
       "      <td>1624</td>\n",
       "      <td>1624</td>\n",
       "    </tr>\n",
       "    <tr>\n",
       "      <td>12496</td>\n",
       "      <td>The Hours and Times</td>\n",
       "      <td>2019</td>\n",
       "      <td>1273</td>\n",
       "      <td>1273</td>\n",
       "    </tr>\n",
       "    <tr>\n",
       "      <td>12497</td>\n",
       "      <td>The Untold Story</td>\n",
       "      <td>2019</td>\n",
       "      <td>790</td>\n",
       "      <td>790</td>\n",
       "    </tr>\n",
       "    <tr>\n",
       "      <td>12498</td>\n",
       "      <td>The Portal</td>\n",
       "      <td>2019</td>\n",
       "      <td>685</td>\n",
       "      <td>NaN</td>\n",
       "    </tr>\n",
       "  </tbody>\n",
       "</table>\n",
       "<p>12499 rows × 4 columns</p>\n",
       "</div>"
      ],
      "text/plain": [
       "                              Title  Year  Worldwide   Domestic\n",
       "0            Mission: Impossible II  2000  546388105  215409889\n",
       "1                         Gladiator  2000  460583960  187705427\n",
       "2                         Cast Away  2000  429632142  233632142\n",
       "3                   What Women Want  2000  374111707  182811707\n",
       "4                          Dinosaur  2000  349822765  137748063\n",
       "...                             ...   ...        ...        ...\n",
       "12494  Jimi Hendrix Electric Church  2019       1818        NaN\n",
       "12495                      Game Day  2019       1624       1624\n",
       "12496           The Hours and Times  2019       1273       1273\n",
       "12497              The Untold Story  2019        790        790\n",
       "12498                    The Portal  2019        685        NaN\n",
       "\n",
       "[12499 rows x 4 columns]"
      ]
     },
     "execution_count": 5,
     "metadata": {},
     "output_type": "execute_result"
    }
   ],
   "source": [
    "df"
   ]
  },
  {
   "cell_type": "markdown",
   "metadata": {},
   "source": [
    "It works! :)"
   ]
  }
 ],
 "metadata": {
  "kernelspec": {
   "display_name": "Python 3",
   "language": "python",
   "name": "python3"
  },
  "language_info": {
   "codemirror_mode": {
    "name": "ipython",
    "version": 3
   },
   "file_extension": ".py",
   "mimetype": "text/x-python",
   "name": "python",
   "nbconvert_exporter": "python",
   "pygments_lexer": "ipython3",
   "version": "3.7.4"
  }
 },
 "nbformat": 4,
 "nbformat_minor": 2
}
