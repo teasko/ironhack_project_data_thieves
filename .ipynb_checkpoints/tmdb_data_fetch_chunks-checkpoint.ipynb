{
 "cells": [
  {
   "cell_type": "code",
   "execution_count": null,
   "metadata": {},
   "outputs": [],
   "source": [
    "import requests\n",
    "import pandas as pd\n",
    "import getpass\n",
    "\n",
    "base_url='https://api.themoviedb.org'\n",
    "api_key = getpass.getpass('API KEY: ')"
   ]
  },
  {
   "cell_type": "code",
   "execution_count": null,
   "metadata": {},
   "outputs": [],
   "source": [
    "imdb_list=pd.read_csv('data/imdb_box_merge.csv')['imdb_id'].to_list()\n",
    "len(imdb_list)"
   ]
  },
  {
   "cell_type": "code",
   "execution_count": null,
   "metadata": {},
   "outputs": [],
   "source": [
    "def get_movie_by_imdb_id(_imdb_id_, api_key):\n",
    "    url_imdb_id=f\"https://api.themoviedb.org/3/find/{_imdb_id_}?api_key={api_key}&language=en-US&external_source=imdb_id\"\n",
    "    res = requests.get(url_imdb_id)\n",
    "\n",
    "    try:\n",
    "        movie=res.json()['movie_results'][0]\n",
    "    except:\n",
    "        return None\n",
    "        \n",
    "    return {\n",
    "        \"imdb_id\": _imdb_id_,\n",
    "        \"id\": movie['id'],\n",
    "        \"original_title\": movie['original_title'],\n",
    "        \"popularity\": movie['popularity'],\n",
    "        \"vote_average\": movie['vote_average'],\n",
    "        \"vote_count\": movie['vote_count'],\n",
    "        \"genre_ids\": movie['genre_ids'],\n",
    "        \"release_date\": movie['release_date']\n",
    "    }"
   ]
  },
  {
   "cell_type": "code",
   "execution_count": null,
   "metadata": {},
   "outputs": [],
   "source": [
    "start=0\n",
    "incr = 10\n",
    "end = 100\n",
    "\n",
    "end = len(imdb_list) if end > len(imdb_list) else end\n",
    "\n",
    "skipped_movies=[]\n",
    "\n",
    "for i in range(start, int(end/incr)+1):\n",
    "    stop = start + incr if start+incr<=len(imdb_list)-1 else len(imdb_list)\n",
    "    movies=[]\n",
    "    print('round: ',i)\n",
    "    for j in range(start, stop):\n",
    "        movie=get_movie_by_imdb_id(imdb_list[j])\n",
    "        if movie:\n",
    "            movies.append(movie)\n",
    "        else:\n",
    "            skipped_movies.append(imdb_list[j])\n",
    "    df = pd.DataFrame(movies)\n",
    "    df.to_csv(f\"data/test/tmdb-{start}-to-{stop-1}.csv\", sep=\"\\t\")\n",
    "    start = stop\n",
    "print('skipped movie:', skipped_movies)"
   ]
  },
  {
   "cell_type": "code",
   "execution_count": null,
   "metadata": {},
   "outputs": [],
   "source": [
    "get_movie_by_imdb_id('tt0309521')"
   ]
  },
  {
   "cell_type": "code",
   "execution_count": null,
   "metadata": {},
   "outputs": [],
   "source": [
    "not_found1=['tt0309521', 'tt0331225', 'tt0396087', 'tt0432361', 'tt0446012', 'tt0451206', 'tt0818098', 'tt10122042', 'tt10159942', 'tt10160046', 'tt10160686', 'tt10160694', 'tt10160700', 'tt10160722', 'tt10160730', 'tt10160742', 'tt10160782', 'tt10192646', 'tt10192670', 'tt10192672', 'tt10192676', 'tt10192686', 'tt10234494', 'tt10260672', 'tt10268708', 'tt10283304', 'tt10379006', 'tt10467342', 'tt10766808', 'tt10777384', 'tt10921460', 'tt10921806', 'tt10954574', 'tt10969382', 'tt10979740', 'tt10980000', 'tt10985290', 'tt11062392', 'tt11100434', 'tt1213590', 'tt1230155', 'tt1339181', 'tt1458939', 'tt1664697', 'tt1837664', 'tt1992236', 'tt2353030', 'tt2353867', 'tt2504610', 'tt2506394', 'tt2546294', 'tt3020532', 'tt3828848', 'tt4200902', 'tt4252612', 'tt4680030', 'tt5462244', 'tt5494522', 'tt5581616', 'tt5687402', 'tt6023560', 'tt6061364', 'tt6126686', 'tt6463468', 'tt6489820', 'tt6622356', 'tt6874242', 'tt6923892', 'tt7318900', 'tt7510284', 'tt7751038', 'tt7803976', 'tt7826642', 'tt7935892', 'tt7981638', 'tt8224384', 'tt8523050', 'tt8870856', 'tt8870874', 'tt8870890', 'tt8870926', 'tt8870936', 'tt8870938', 'tt8870942', 'tt8870948', 'tt9222904', 'tt9724318', 'tt9799960', 'tt9810480', 'tt9856680']\n",
    "len(not_found1)"
   ]
  },
  {
   "cell_type": "code",
   "execution_count": null,
   "metadata": {},
   "outputs": [],
   "source": []
  }
 ],
 "metadata": {
  "file_extension": ".py",
  "kernelspec": {
   "display_name": "Python 3.7.5 64-bit ('code_red': conda)",
   "language": "python",
   "name": "python37564bitcoderedcondab28c1fa4e0f54e2e8185e1015ebf71fb"
  },
  "language_info": {
   "codemirror_mode": {
    "name": "ipython",
    "version": 3
   },
   "file_extension": ".py",
   "mimetype": "text/x-python",
   "name": "python",
   "nbconvert_exporter": "python",
   "pygments_lexer": "ipython3",
   "version": "3.7.5"
  },
  "mimetype": "text/x-python",
  "name": "python",
  "npconvert_exporter": "python",
  "pygments_lexer": "ipython3",
  "version": 3
 },
 "nbformat": 4,
 "nbformat_minor": 2
}
