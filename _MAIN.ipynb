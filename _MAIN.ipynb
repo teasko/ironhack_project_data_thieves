{
 "cells": [
  {
   "cell_type": "markdown",
   "metadata": {},
   "source": [
    "# Data Thieves Project"
   ]
  },
  {
   "cell_type": "markdown",
   "metadata": {},
   "source": [
    "Collaborators:\n",
    "* Albrecht - https://github.com/albrecht-mariz\n",
    "* Sujit - https://github.com/sb-olr\n",
    "* Torsten - https://github.com/teasko"
   ]
  },
  {
   "cell_type": "markdown",
   "metadata": {},
   "source": [
    "## 0. Basic idea\n",
    "\n",
    "We look at data on movies available from different sources. We take data form\n",
    "\n",
    "* IMDB (csv dumps)\n",
    "* TMDB (API)\n",
    "* Box Office Mojo (Scraping)\n",
    "\n",
    "More info on the data from those three sources is provided in the *README.md*\n",
    "\n",
    "The aim of the project is to collect data with different methods, to merge and to analyze them. We want to see which movies and movie categories are rated highest and make the most revenue. We consider movies from 2000 to 2019.\n",
    "\n",
    "We organized our work in several notebooks for differnt tasks. We saved the resulting DataFrames as csv's"
   ]
  },
  {
   "cell_type": "markdown",
   "metadata": {},
   "source": [
    "## 1. Getting the data"
   ]
  },
  {
   "cell_type": "markdown",
   "metadata": {},
   "source": [
    "### 1.1 IMDB data dumps\n",
    "We took two csv tables provided by IMDB and merged them together, see \n",
    "* README.md\n",
    "* Notebook: **iMBD_dumps_cleaning.ipynb**\n",
    "* corresponding output csv **imbd_movies_with_rating.csv**"
   ]
  },
  {
   "cell_type": "markdown",
   "metadata": {},
   "source": [
    "### 1.2 Box Office Mojo data scraping\n",
    "We scraped data on movies and their revenues from box office mojo. See\n",
    "* README.md\n",
    "* Notebook **Web_Scraping_Box_Offices_Mojo.ipynb**\n",
    "* corresponding output csv **box_offices_mojo.csv**"
   ]
  },
  {
   "cell_type": "markdown",
   "metadata": {},
   "source": [
    "### 1.3 TMDB data via API\n",
    "For all movies that could be found in both the IMDB data and the box office data, we used to TMDB api to also get their respective TMDB score and popularity score. See\n",
    "* README.md\n",
    "* Notebooks \n",
    "    * all at once: **get_tmbd_from_api.ipynb**\n",
    "    * in chunks: **tmdb_data_fetch_chunks.ipynb**\n",
    "* corresponding output csv **tmdb.csv**\n"
   ]
  },
  {
   "cell_type": "markdown",
   "metadata": {},
   "source": [
    "## 2. Cleaning and merging\n",
    "cleaning and merging the three data sets was done in the notebook **merge_datasets.ipynb**"
   ]
  },
  {
   "cell_type": "markdown",
   "metadata": {},
   "source": [
    "## 3. Analysis and plotting\n",
    "All the analysis (descriptive) and plotting was done and explained in **data_analysis.ipynb**. "
   ]
  }
 ],
 "metadata": {
  "kernelspec": {
   "display_name": "Python 3",
   "language": "python",
   "name": "python3"
  },
  "language_info": {
   "codemirror_mode": {
    "name": "ipython",
    "version": 3
   },
   "file_extension": ".py",
   "mimetype": "text/x-python",
   "name": "python",
   "nbconvert_exporter": "python",
   "pygments_lexer": "ipython3",
   "version": "3.7.4"
  }
 },
 "nbformat": 4,
 "nbformat_minor": 2
}
