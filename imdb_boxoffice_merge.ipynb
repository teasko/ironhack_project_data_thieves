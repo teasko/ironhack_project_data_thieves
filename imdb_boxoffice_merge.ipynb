{
 "cells": [
  {
   "cell_type": "code",
   "execution_count": 26,
   "metadata": {},
   "outputs": [],
   "source": [
    "import pandas as pd\n",
    "import numpy as np"
   ]
  },
  {
   "cell_type": "markdown",
   "metadata": {},
   "source": [
    "## 0. import data"
   ]
  },
  {
   "cell_type": "code",
   "execution_count": 27,
   "metadata": {},
   "outputs": [
    {
     "data": {
      "text/html": [
       "<div>\n",
       "<style scoped>\n",
       "    .dataframe tbody tr th:only-of-type {\n",
       "        vertical-align: middle;\n",
       "    }\n",
       "\n",
       "    .dataframe tbody tr th {\n",
       "        vertical-align: top;\n",
       "    }\n",
       "\n",
       "    .dataframe thead th {\n",
       "        text-align: right;\n",
       "    }\n",
       "</style>\n",
       "<table border=\"1\" class=\"dataframe\">\n",
       "  <thead>\n",
       "    <tr style=\"text-align: right;\">\n",
       "      <th></th>\n",
       "      <th>tconst</th>\n",
       "      <th>titleType</th>\n",
       "      <th>primaryTitle</th>\n",
       "      <th>originalTitle</th>\n",
       "      <th>isAdult</th>\n",
       "      <th>startYear</th>\n",
       "      <th>runtimeMinutes</th>\n",
       "      <th>genres</th>\n",
       "      <th>avrg_rating</th>\n",
       "      <th>num_votes</th>\n",
       "    </tr>\n",
       "  </thead>\n",
       "  <tbody>\n",
       "    <tr>\n",
       "      <th>0</th>\n",
       "      <td>tt0016906</td>\n",
       "      <td>movie</td>\n",
       "      <td>Frivolinas</td>\n",
       "      <td>Frivolinas</td>\n",
       "      <td>0</td>\n",
       "      <td>2014</td>\n",
       "      <td>80.0</td>\n",
       "      <td>Comedy,Musical</td>\n",
       "      <td>5.6</td>\n",
       "      <td>14.0</td>\n",
       "    </tr>\n",
       "    <tr>\n",
       "      <th>1</th>\n",
       "      <td>tt0035423</td>\n",
       "      <td>movie</td>\n",
       "      <td>Kate &amp; Leopold</td>\n",
       "      <td>Kate &amp; Leopold</td>\n",
       "      <td>0</td>\n",
       "      <td>2001</td>\n",
       "      <td>118.0</td>\n",
       "      <td>Comedy,Fantasy,Romance</td>\n",
       "      <td>6.4</td>\n",
       "      <td>75863.0</td>\n",
       "    </tr>\n",
       "    <tr>\n",
       "      <th>2</th>\n",
       "      <td>tt0064322</td>\n",
       "      <td>movie</td>\n",
       "      <td>The Woman with the Knife</td>\n",
       "      <td>La femme au couteau</td>\n",
       "      <td>0</td>\n",
       "      <td>2010</td>\n",
       "      <td>80.0</td>\n",
       "      <td>Drama,Thriller</td>\n",
       "      <td>6.6</td>\n",
       "      <td>9.0</td>\n",
       "    </tr>\n",
       "    <tr>\n",
       "      <th>3</th>\n",
       "      <td>tt0069049</td>\n",
       "      <td>movie</td>\n",
       "      <td>The Other Side of the Wind</td>\n",
       "      <td>The Other Side of the Wind</td>\n",
       "      <td>0</td>\n",
       "      <td>2018</td>\n",
       "      <td>122.0</td>\n",
       "      <td>Drama</td>\n",
       "      <td>6.9</td>\n",
       "      <td>5218.0</td>\n",
       "    </tr>\n",
       "    <tr>\n",
       "      <th>4</th>\n",
       "      <td>tt0069204</td>\n",
       "      <td>movie</td>\n",
       "      <td>Sabse Bada Sukh</td>\n",
       "      <td>Sabse Bada Sukh</td>\n",
       "      <td>0</td>\n",
       "      <td>2018</td>\n",
       "      <td>NaN</td>\n",
       "      <td>Comedy,Drama</td>\n",
       "      <td>6.1</td>\n",
       "      <td>14.0</td>\n",
       "    </tr>\n",
       "  </tbody>\n",
       "</table>\n",
       "</div>"
      ],
      "text/plain": [
       "      tconst titleType                primaryTitle  \\\n",
       "0  tt0016906     movie                  Frivolinas   \n",
       "1  tt0035423     movie              Kate & Leopold   \n",
       "2  tt0064322     movie    The Woman with the Knife   \n",
       "3  tt0069049     movie  The Other Side of the Wind   \n",
       "4  tt0069204     movie             Sabse Bada Sukh   \n",
       "\n",
       "                originalTitle  isAdult  startYear  runtimeMinutes  \\\n",
       "0                  Frivolinas        0       2014            80.0   \n",
       "1              Kate & Leopold        0       2001           118.0   \n",
       "2         La femme au couteau        0       2010            80.0   \n",
       "3  The Other Side of the Wind        0       2018           122.0   \n",
       "4             Sabse Bada Sukh        0       2018             NaN   \n",
       "\n",
       "                   genres  avrg_rating  num_votes  \n",
       "0          Comedy,Musical          5.6       14.0  \n",
       "1  Comedy,Fantasy,Romance          6.4    75863.0  \n",
       "2          Drama,Thriller          6.6        9.0  \n",
       "3                   Drama          6.9     5218.0  \n",
       "4            Comedy,Drama          6.1       14.0  "
      ]
     },
     "execution_count": 27,
     "metadata": {},
     "output_type": "execute_result"
    }
   ],
   "source": [
    "# import imbd data\n",
    "imdb = pd.read_csv(\"data/imbd_movies_with_rating.csv\")\n",
    "imdb.head()"
   ]
  },
  {
   "cell_type": "code",
   "execution_count": 28,
   "metadata": {},
   "outputs": [
    {
     "data": {
      "text/html": [
       "<div>\n",
       "<style scoped>\n",
       "    .dataframe tbody tr th:only-of-type {\n",
       "        vertical-align: middle;\n",
       "    }\n",
       "\n",
       "    .dataframe tbody tr th {\n",
       "        vertical-align: top;\n",
       "    }\n",
       "\n",
       "    .dataframe thead th {\n",
       "        text-align: right;\n",
       "    }\n",
       "</style>\n",
       "<table border=\"1\" class=\"dataframe\">\n",
       "  <thead>\n",
       "    <tr style=\"text-align: right;\">\n",
       "      <th></th>\n",
       "      <th>Unnamed: 0</th>\n",
       "      <th>Title</th>\n",
       "      <th>Year</th>\n",
       "      <th>Worldwide</th>\n",
       "      <th>Domestic</th>\n",
       "    </tr>\n",
       "  </thead>\n",
       "  <tbody>\n",
       "    <tr>\n",
       "      <th>0</th>\n",
       "      <td>0</td>\n",
       "      <td>Mission: Impossible II</td>\n",
       "      <td>2000</td>\n",
       "      <td>546388105</td>\n",
       "      <td>215409889.0</td>\n",
       "    </tr>\n",
       "    <tr>\n",
       "      <th>1</th>\n",
       "      <td>1</td>\n",
       "      <td>Gladiator</td>\n",
       "      <td>2000</td>\n",
       "      <td>460583960</td>\n",
       "      <td>187705427.0</td>\n",
       "    </tr>\n",
       "    <tr>\n",
       "      <th>2</th>\n",
       "      <td>2</td>\n",
       "      <td>Cast Away</td>\n",
       "      <td>2000</td>\n",
       "      <td>429632142</td>\n",
       "      <td>233632142.0</td>\n",
       "    </tr>\n",
       "    <tr>\n",
       "      <th>3</th>\n",
       "      <td>3</td>\n",
       "      <td>What Women Want</td>\n",
       "      <td>2000</td>\n",
       "      <td>374111707</td>\n",
       "      <td>182811707.0</td>\n",
       "    </tr>\n",
       "    <tr>\n",
       "      <th>4</th>\n",
       "      <td>4</td>\n",
       "      <td>Dinosaur</td>\n",
       "      <td>2000</td>\n",
       "      <td>349822765</td>\n",
       "      <td>137748063.0</td>\n",
       "    </tr>\n",
       "  </tbody>\n",
       "</table>\n",
       "</div>"
      ],
      "text/plain": [
       "   Unnamed: 0                   Title  Year  Worldwide     Domestic\n",
       "0           0  Mission: Impossible II  2000  546388105  215409889.0\n",
       "1           1               Gladiator  2000  460583960  187705427.0\n",
       "2           2               Cast Away  2000  429632142  233632142.0\n",
       "3           3         What Women Want  2000  374111707  182811707.0\n",
       "4           4                Dinosaur  2000  349822765  137748063.0"
      ]
     },
     "execution_count": 28,
     "metadata": {},
     "output_type": "execute_result"
    }
   ],
   "source": [
    "#import boxoffice data\n",
    "boxoffice = pd.read_csv(\"data/box_offices_mojo.csv\")\n",
    "boxoffice.head()"
   ]
  },
  {
   "cell_type": "markdown",
   "metadata": {},
   "source": [
    "## 1. clean and rename"
   ]
  },
  {
   "cell_type": "code",
   "execution_count": 29,
   "metadata": {},
   "outputs": [],
   "source": [
    "# delete unnamed column\n",
    "boxoffice.drop(columns = \"Unnamed: 0\",inplace=True)"
   ]
  },
  {
   "cell_type": "code",
   "execution_count": 30,
   "metadata": {},
   "outputs": [],
   "source": [
    "# rename columns\n",
    "boxoffice.columns = [\"title\",\"year\",\"worldwide\",\"domestic\"]"
   ]
  },
  {
   "cell_type": "code",
   "execution_count": 31,
   "metadata": {},
   "outputs": [],
   "source": [
    "# clean and rename imdb\n",
    "imdb.drop(columns = \"originalTitle\",inplace=True)\n",
    "imdb.drop(columns = \"titleType\",inplace=True)\n",
    "imdb.columns = [\"imdb_id\",\"title\",\"isAdult\",\"year\",\"minutes\",\"genres\",\"imdb_av_rating\",\"imdb_num_votes\"]"
   ]
  },
  {
   "cell_type": "markdown",
   "metadata": {},
   "source": [
    "## 2. check for different movies with same title"
   ]
  },
  {
   "cell_type": "markdown",
   "metadata": {},
   "source": [
    "### 2.1 IMDB"
   ]
  },
  {
   "cell_type": "code",
   "execution_count": 32,
   "metadata": {},
   "outputs": [
    {
     "data": {
      "text/plain": [
       "30603"
      ]
     },
     "execution_count": 32,
     "metadata": {},
     "output_type": "execute_result"
    }
   ],
   "source": [
    "# title duplicates\n",
    "sum(imdb[\"title\"].value_counts()[imdb[\"title\"].value_counts() > 1])"
   ]
  },
  {
   "cell_type": "code",
   "execution_count": 33,
   "metadata": {},
   "outputs": [
    {
     "data": {
      "text/plain": [
       "2607"
      ]
     },
     "execution_count": 33,
     "metadata": {},
     "output_type": "execute_result"
    }
   ],
   "source": [
    "# duplicates for tile and year  \n",
    "imdb[\"year_title\"] = imdb[\"year\"].astype(str).str.lower() + \" \" + imdb[\"title\"].astype(str).str.lower()\n",
    "\n",
    "# drop_duplicates\n",
    "duplicate_year_title = list(imdb[\"year_title\"].value_counts()[imdb[\"year_title\"].value_counts() > 1].index)\n",
    "imdb = imdb[~imdb[\"year_title\"].isin(duplicate_year_title)]\n",
    "\n",
    "len(duplicate_year_title)"
   ]
  },
  {
   "cell_type": "markdown",
   "metadata": {},
   "source": [
    "### 2.2 box office"
   ]
  },
  {
   "cell_type": "code",
   "execution_count": 34,
   "metadata": {},
   "outputs": [
    {
     "data": {
      "text/plain": [
       "392"
      ]
     },
     "execution_count": 34,
     "metadata": {},
     "output_type": "execute_result"
    }
   ],
   "source": [
    "# title duplicates\n",
    "sum(boxoffice[\"title\"].value_counts()[boxoffice[\"title\"].value_counts() > 1])"
   ]
  },
  {
   "cell_type": "code",
   "execution_count": 35,
   "metadata": {},
   "outputs": [],
   "source": [
    "# duplicates for tile and year  \n",
    "boxoffice[\"year_title\"] = boxoffice[\"year\"].astype(str).str.lower() + \" \" + boxoffice[\"title\"].astype(str).str.lower()"
   ]
  },
  {
   "cell_type": "code",
   "execution_count": 36,
   "metadata": {},
   "outputs": [],
   "source": [
    "duplicate_year_title = list(boxoffice[\"year_title\"].value_counts()[boxoffice[\"year_title\"].value_counts() > 1].index)\n",
    "boxoffice = boxoffice[~boxoffice[\"year_title\"].isin(duplicate_year_title)]\n",
    "#boxoffice.drop(columns = \"year_title\",inplace=True)"
   ]
  },
  {
   "cell_type": "code",
   "execution_count": 37,
   "metadata": {},
   "outputs": [
    {
     "data": {
      "text/plain": [
       "6"
      ]
     },
     "execution_count": 37,
     "metadata": {},
     "output_type": "execute_result"
    }
   ],
   "source": [
    "len(duplicate_year_title)"
   ]
  },
  {
   "cell_type": "code",
   "execution_count": 38,
   "metadata": {},
   "outputs": [],
   "source": [
    "# restet indices\n",
    "imdb.reset_index(inplace=True)\n",
    "boxoffice.reset_index(inplace=True)"
   ]
  },
  {
   "cell_type": "markdown",
   "metadata": {},
   "source": [
    "## 3. merging imdb and boxoffice"
   ]
  },
  {
   "cell_type": "code",
   "execution_count": 39,
   "metadata": {},
   "outputs": [],
   "source": [
    "# merge\n",
    "imdb_box = imdb.merge(boxoffice,on=\"year_title\")\n",
    "# rename and drop columns\n",
    "imdb_box.drop(columns=[\"title_y\",\"year_y\"],inplace=True)\n",
    "imdb_box.rename(columns = {\"title_x\":\"title\",\"year_x\":\"year\"},inplace=True)\n",
    "# save to csv\n",
    "imdb_box.drop(columns = \"year_title\").to_csv(\"imdb_box_merge.csv\")"
   ]
  },
  {
   "cell_type": "code",
   "execution_count": null,
   "metadata": {},
   "outputs": [],
   "source": []
  }
 ],
 "metadata": {
  "kernelspec": {
   "display_name": "Python 3",
   "language": "python",
   "name": "python3"
  },
  "language_info": {
   "codemirror_mode": {
    "name": "ipython",
    "version": 3
   },
   "file_extension": ".py",
   "mimetype": "text/x-python",
   "name": "python",
   "nbconvert_exporter": "python",
   "pygments_lexer": "ipython3",
   "version": "3.7.5"
  }
 },
 "nbformat": 4,
 "nbformat_minor": 2
}
