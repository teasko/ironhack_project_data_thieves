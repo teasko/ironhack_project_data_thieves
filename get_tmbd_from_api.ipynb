{
 "cells": [
  {
   "cell_type": "code",
   "execution_count": 1,
   "metadata": {},
   "outputs": [],
   "source": [
    "import pandas as pd\n",
    "\n",
    "import requests\n",
    "import json"
   ]
  },
  {
   "cell_type": "code",
   "execution_count": 2,
   "metadata": {},
   "outputs": [],
   "source": [
    "# import imbd_box data\n",
    "imdb_box = pd.read_csv(\"03_ironhack_project_data_thieves/data/imdb_box_merge.csv\")\n",
    "\n",
    "imdb_ids = list(imdb_box[\"imdb_id\"].values)"
   ]
  },
  {
   "cell_type": "code",
   "execution_count": 3,
   "metadata": {},
   "outputs": [],
   "source": [
    "# define function for request for imdb id\n",
    "\n",
    "\n",
    "\n",
    "def get_data_4_imbd_id(_imdb_id_):\n",
    "    url = f\"https://api.themoviedb.org/3/find/{_imdb_id_}?api_key=61e65a8b28cdba3e2dc9f35555b0971b&language=en-US&external_source=imdb_id\"\n",
    "    re = requests.get(url).json()['movie_results'][0]\n",
    "    \n",
    "    \n",
    "    return {\"imdb_id\": _imdb_id_\n",
    "            ,\"tmdb_rating\": re[\"vote_average\"]\n",
    "            ,\"tmdb_votes\": re[\"vote_count\"]\n",
    "            ,\"popularity\": re[\"popularity\"]}"
   ]
  },
  {
   "cell_type": "code",
   "execution_count": 4,
   "metadata": {},
   "outputs": [],
   "source": [
    "# define outcome db\n",
    "df_tmdb = pd.DataFrame(columns = [\"imdb_id\",\"tmdb_rating\",\"tmdb_votes\",\"popularity\"])"
   ]
  },
  {
   "cell_type": "code",
   "execution_count": null,
   "metadata": {},
   "outputs": [],
   "source": [
    "# loop through all ids\n",
    "except_ids = []\n",
    "\n",
    "\n",
    "for imdb_id in imdb_ids:\n",
    "    try:\n",
    "        df_tmdb = df_tmdb.append(get_data_4_imbd_id(imdb_id),ignore_index=True)\n",
    "    except:\n",
    "        except_ids.append(imdb_id)"
   ]
  },
  {
   "cell_type": "code",
   "execution_count": 10,
   "metadata": {},
   "outputs": [],
   "source": [
    "df_tmdb.to_csv(\"tmdb.csv\")"
   ]
  },
  {
   "cell_type": "code",
   "execution_count": null,
   "metadata": {},
   "outputs": [],
   "source": []
  }
 ],
 "metadata": {
  "kernelspec": {
   "display_name": "Python 3",
   "language": "python",
   "name": "python3"
  },
  "language_info": {
   "codemirror_mode": {
    "name": "ipython",
    "version": 3
   },
   "file_extension": ".py",
   "mimetype": "text/x-python",
   "name": "python",
   "nbconvert_exporter": "python",
   "pygments_lexer": "ipython3",
   "version": "3.7.5"
  }
 },
 "nbformat": 4,
 "nbformat_minor": 2
}
